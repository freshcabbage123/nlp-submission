{
 "cells": [
  {
   "cell_type": "code",
   "execution_count": 1,
   "id": "bfb2bfd5",
   "metadata": {},
   "outputs": [
    {
     "name": "stdout",
     "output_type": "stream",
     "text": [
      "Accuracy: 0.7851596203623814\n",
      "                                                Text  \\\n",
      "0  Kickers on my watchlist XIDE TIT SOQ PNK CPW B...   \n",
      "1  user: AAP MOVIE. 55% return for the FEA/GEED i...   \n",
      "2  user I'd be afraid to short AMZN - they are lo...   \n",
      "3                                  MNTA Over 12.00     \n",
      "4                                   OI  Over 21.37     \n",
      "\n",
      "                                      processed_text  \n",
      "0  kickers on my watchlist xide tit soq pnk cpw b...  \n",
      "1  user aap movie 55 return for the feageed indic...  \n",
      "2  user id be afraid to short amzn  they are look...  \n",
      "3                                   mnta over 1200    \n",
      "4                                    oi  over 2137    \n"
     ]
    }
   ],
   "source": [
    "import pandas as pd\n",
    "import re\n",
    "from sklearn.model_selection import train_test_split\n",
    "from sklearn.feature_extraction.text import TfidfVectorizer\n",
    "from sklearn.linear_model import LogisticRegression\n",
    "from sklearn.metrics import accuracy_score\n",
    "\n",
    "# Load Data\n",
    "data = pd.read_csv('./stock_data.csv')\n",
    "\n",
    "# Preprocessing\n",
    "def preprocess_text(text):\n",
    "    # Lowercasing\n",
    "    text = text.lower()\n",
    "    # Removing punctuation\n",
    "    text = re.sub(r'[^\\w\\s]', '', text)\n",
    "    return text\n",
    "\n",
    "data['processed_text'] = data['Text'].apply(preprocess_text)\n",
    "\n",
    "# Vectorization\n",
    "tfidf = TfidfVectorizer(max_features=5000)\n",
    "X = tfidf.fit_transform(data['processed_text']).toarray()\n",
    "y = data['Sentiment']\n",
    "\n",
    "# Train-Test Split\n",
    "X_train, X_test, y_train, y_test = train_test_split(X, y, test_size=0.2, random_state=42)\n",
    "\n",
    "# Model Training\n",
    "model = LogisticRegression()\n",
    "model.fit(X_train, y_train)\n",
    "\n",
    "# Model Evaluation\n",
    "y_pred = model.predict(X_test)\n",
    "accuracy = accuracy_score(y_test, y_pred)\n",
    "print(\"Accuracy:\", accuracy)\n",
    "\n",
    "# Displaying Original vs Processed Text\n",
    "comparison_table = data[['Text', 'processed_text']].head()\n",
    "print(comparison_table)\n"
   ]
  },
  {
   "cell_type": "code",
   "execution_count": null,
   "id": "586533db",
   "metadata": {},
   "outputs": [],
   "source": []
  }
 ],
 "metadata": {
  "kernelspec": {
   "display_name": "Python 3 (ipykernel)",
   "language": "python",
   "name": "python3"
  },
  "language_info": {
   "codemirror_mode": {
    "name": "ipython",
    "version": 3
   },
   "file_extension": ".py",
   "mimetype": "text/x-python",
   "name": "python",
   "nbconvert_exporter": "python",
   "pygments_lexer": "ipython3",
   "version": "3.11.4"
  }
 },
 "nbformat": 4,
 "nbformat_minor": 5
}
